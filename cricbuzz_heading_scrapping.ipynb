{
 "cells": [
  {
   "cell_type": "code",
   "execution_count": 13,
   "metadata": {},
   "outputs": [],
   "source": [
    "import sys\n",
    "import time\n",
    "from bs4 import BeautifulSoup\n",
    "import requests"
   ]
  },
  {
   "cell_type": "code",
   "execution_count": 19,
   "metadata": {},
   "outputs": [],
   "source": [
    "try:\n",
    "        \n",
    "    page=requests.get('https://www.cricbuzz.com/')                             \n",
    "except Exception as e:                                   #just in case we have exceptions\n",
    "    error_type, error_obj, error_info = sys.exc_info()     \n",
    "    print ('ERROR FOR LINK:',url)                          \n",
    "    print (error_type, 'Line:', error_info.tb_lineno)      \n",
    "                                                 \n",
    "time.sleep(2)   \n",
    "soup=BeautifulSoup(page.text,'html.parser')\n",
    "links=soup.find_all('h2',attrs={'big-crd-hdln'})   "
   ]
  },
  {
   "cell_type": "code",
   "execution_count": 20,
   "metadata": {},
   "outputs": [
    {
     "data": {
      "text/plain": [
       "[<h2 class=\"big-crd-hdln\"><a href=\"/live-cricket-scores/38622/ind-vs-sl-1st-test\" title=\"Kohli falls for 45; Vihari marches on\">\tKohli falls for 45; Vihari marches on</a></h2>,\n",
       " <h2 class=\"big-crd-hdln\"><a href=\"/live-cricket-scores/40348/pak-vs-aus-1st-test\" title=\"Lyon breaks century opening stand on the cusp of Lunch\">\tLyon breaks century opening stand on the cusp of Lunch</a></h2>,\n",
       " <h2 class=\"big-crd-hdln\"><a href=\"/live-cricket-scores/32432/nzw-vs-wiw-1st-match\" title=\"Devine ton keeps NZ in the hunt\">\tDevine ton keeps NZ in the hunt</a></h2>,\n",
       " <h2 class=\"big-crd-hdln\"><a href=\"/cricket-news/121267/womens-cricket-is-knocking-at-the-door-of-opportunity-dont-let-it-slip-away\" title=\"Women's cricket is knocking at the door of opportunity, don't let it slip away\">\tWomen's cricket is knocking at the door of opportunity, don't let it slip away</a></h2>,\n",
       " <h2 class=\"big-crd-hdln\"><a href=\"/cricket-news/121279/indias-test-middle-order-where-is-it-headed\" title=\"India's Test middle order - where is it headed?\">\tIndia's Test middle order - where is it headed?</a></h2>,\n",
       " <h2 class=\"big-crd-hdln\"><a href=\"/cricket-news/120677/ipl-update-three-day-quarantine-before-entering-bubble-for-teams\" title=\"IPL Update: Three-day quarantine before entering bubble for teams\">\tIPL Update: Three-day quarantine before entering bubble for teams</a></h2>]"
      ]
     },
     "execution_count": 20,
     "metadata": {},
     "output_type": "execute_result"
    }
   ],
   "source": [
    "links"
   ]
  },
  {
   "cell_type": "code",
   "execution_count": 21,
   "metadata": {},
   "outputs": [
    {
     "name": "stdout",
     "output_type": "stream",
     "text": [
      "\tKohli falls for 45; Vihari marches on\n",
      "\n",
      "\n",
      "\tLyon breaks century opening stand on the cusp of Lunch\n",
      "\n",
      "\n",
      "\tDevine ton keeps NZ in the hunt\n",
      "\n",
      "\n",
      "\tWomen's cricket is knocking at the door of opportunity, don't let it slip away\n",
      "\n",
      "\n",
      "\tIndia's Test middle order - where is it headed?\n",
      "\n",
      "\n",
      "\tIPL Update: Three-day quarantine before entering bubble for teams\n",
      "\n",
      "\n"
     ]
    }
   ],
   "source": [
    "for i in links:\n",
    "    print(i.text)\n",
    "    print(\"\\n\")"
   ]
  }
 ],
 "metadata": {
  "kernelspec": {
   "display_name": "Python 3",
   "language": "python",
   "name": "python3"
  },
  "language_info": {
   "codemirror_mode": {
    "name": "ipython",
    "version": 3
   },
   "file_extension": ".py",
   "mimetype": "text/x-python",
   "name": "python",
   "nbconvert_exporter": "python",
   "pygments_lexer": "ipython3",
   "version": "3.8.8"
  }
 },
 "nbformat": 4,
 "nbformat_minor": 2
}
